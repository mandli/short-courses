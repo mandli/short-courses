{
 "cells": [
  {
   "cell_type": "markdown",
   "metadata": {
    "hide_input": false,
    "slideshow": {
     "slide_type": "skip"
    }
   },
   "source": [
    "<table>\n",
    " <tr align=left><td><img align=left src=\"./images/CC-BY.png\">\n",
    " <td>Text provided under a Creative Commons Attribution license, CC-BY. All code is made available under the FSF-approved MIT license. (c) Kyle T. Mandli and Others</td>\n",
    "</table>"
   ]
  },
  {
   "cell_type": "code",
   "execution_count": null,
   "metadata": {
    "hide_input": false,
    "slideshow": {
     "slide_type": "skip"
    }
   },
   "outputs": [],
   "source": [
    "from __future__ import print_function\n",
    "\n",
    "%matplotlib inline\n",
    "import numpy\n",
    "import matplotlib.pyplot as plt"
   ]
  },
  {
   "cell_type": "markdown",
   "metadata": {},
   "source": [
    "# Reading and Writing Data\n",
    "\n",
    "1. Basic reading\n",
    "1. `loadtxt`\n",
    "1. Basic writing\n",
    "1. Reading Tabular Data"
   ]
  },
  {
   "cell_type": "markdown",
   "metadata": {},
   "source": [
    "## Basic Reading of Data"
   ]
  },
  {
   "cell_type": "code",
   "execution_count": null,
   "metadata": {},
   "outputs": [],
   "source": [
    "import os\n",
    "\n",
    "path = os.path.join(os.getcwd(), \"data\", \"sunspots.txt\")\n",
    "\n",
    "years = []\n",
    "spot_count = []\n",
    "with open(path, 'r') as sunspot_data:\n",
    "    for line in sunspot_data:\n",
    "        years.append(int(line.split()[0]))\n",
    "        spot_count.append(int(line.split()[1]))\n",
    "\n",
    "plt.plot(years, spot_count, 'k-')\n",
    "plt.show()"
   ]
  },
  {
   "cell_type": "markdown",
   "metadata": {},
   "source": [
    "## Using `loadtxt`"
   ]
  },
  {
   "cell_type": "code",
   "execution_count": null,
   "metadata": {},
   "outputs": [],
   "source": [
    "import os\n",
    "\n",
    "path = os.path.join(os.getcwd(), \"data\", \"sunspots.txt\")\n",
    "\n",
    "data = numpy.loadtxt(path, dtype=int)\n",
    "years = data[:, 0]\n",
    "spot_count = data[:, 1]\n",
    "\n",
    "plt.plot(years, spot_count, 'k-')\n",
    "plt.show()"
   ]
  },
  {
   "cell_type": "markdown",
   "metadata": {},
   "source": [
    "## Reading Tabular Data"
   ]
  },
  {
   "cell_type": "markdown",
   "metadata": {},
   "source": [
    "## Basic Writing of Data"
   ]
  },
  {
   "cell_type": "code",
   "execution_count": null,
   "metadata": {},
   "outputs": [],
   "source": [
    "import os\n",
    "import numpy.random\n",
    "\n",
    "path = os.path.join(os.getcwd(), \"data\", \"mydata.txt\")\n",
    "\n",
    "sample_number = numpy.arange(1, 101)\n",
    "my_data = numpy.random.normal(size=(100))\n",
    "\n",
    "# with open(path, 'w') as mydata_file:\n",
    "#     for (i, N) in enumerate(sample_number):\n",
    "#         mydata_file.write(\"{}, {}\\n\".format(N, my_data[i]))\n",
    "\n",
    "numpy.savetxt?\n",
    "# numpy.savetxt(path, my_data)\n",
    "    \n",
    "# Test data\n",
    "data = numpy.loadtxt(path, delimiter=',')\n",
    "read_data = data[:, 1]\n",
    "\n",
    "fig = plt.figure()\n",
    "fig.set_figwidth(fig.get_figwidth() * 2)\n",
    "\n",
    "axes = fig.add_subplot(1, 2, 1)\n",
    "axes.hist(my_data)\n",
    "\n",
    "axes = fig.add_subplot(1, 2, 2)\n",
    "axes.hist(read_data)\n",
    "\n",
    "plt.show()"
   ]
  },
  {
   "cell_type": "code",
   "execution_count": null,
   "metadata": {},
   "outputs": [],
   "source": []
  }
 ],
 "metadata": {
  "kernelspec": {
   "display_name": "Python 3",
   "language": "python",
   "name": "python3"
  },
  "language_info": {
   "codemirror_mode": {
    "name": "ipython",
    "version": 3
   },
   "file_extension": ".py",
   "mimetype": "text/x-python",
   "name": "python",
   "nbconvert_exporter": "python",
   "pygments_lexer": "ipython3",
   "version": "3.7.7"
  }
 },
 "nbformat": 4,
 "nbformat_minor": 4
}
