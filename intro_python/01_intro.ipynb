{
 "cells": [
  {
   "cell_type": "markdown",
   "metadata": {},
   "source": [
    "<table>\n",
    " <tr align=left><td><img align=left src=\"./images/CC-BY.png\">\n",
    " <td>Text provided under a Creative Commons Attribution license, CC-BY. All code is made available under the FSF-approved MIT license. (c) Kyle T. Mandli</td>\n",
    "</table>"
   ]
  },
  {
   "cell_type": "markdown",
   "metadata": {},
   "source": [
    "# Introduction to Computation in Python"
   ]
  },
  {
   "cell_type": "markdown",
   "metadata": {},
   "source": [
    "## What is this course about?"
   ]
  },
  {
   "cell_type": "markdown",
   "metadata": {},
   "source": [
    "## Pre-Requisites\n",
    "\n",
    "1. Programming background - Something (does not need to be Python)\n",
    "1. Mathematics - Basic linear algebra"
   ]
  },
  {
   "cell_type": "markdown",
   "metadata": {},
   "source": [
    "## Installation\n",
    "\n",
    "#### Install on your <font color=red>own machine </font>\n",
    " - [Notebook Quick Start Guide](https://jupyter-notebook-beginner-guide.readthedocs.io/en/latest/index.html)\n",
    " - [Anaconda](http://anaconda.com/downloads)\n",
    " - [Canopy](https://store.enthought.com/downloads/) \n",
    "\n",
    "Remember to grab the <font color=red> **Python 3.x** </font> versions!\n",
    "\n",
    "#### The \"cloud\"\n",
    "\n",
    "Instead of running things locally on your machine there are a number of cloud services that you are welcome to use in order to get everything running easily:\n",
    " - [<font color=red>Columbia's CUIT Jupyter Hub server</font>](https://apma4300.columbiajupyter2.org/)\n",
    " - [Google's Colaboratory](https://colab.research.google.com)\n",
    " - [Microsoft Azure Notebooks](https://notebooks.azure.com)\n",
    " - [CoCalc](https://cocalc.com/)"
   ]
  },
  {
   "cell_type": "markdown",
   "metadata": {},
   "source": [
    "## Outline\n",
    "\n",
    "1. Jupyter\n",
    "  1. Notebooks\n",
    "    1. Types of cells\n",
    "    1. Kernels\n",
    "      1. Controls\n",
    "      1. Types of kernels\n",
    "      1. Magics\n",
    "  1. Lab\n",
    "1. Mathematics in Python\n",
    "1. Basics of NumPy\n",
    "  1. `ndarray`\n",
    "  1. Array constructors\n",
    "  1. Manipulating arrays\n",
    "  1. Array operations\n",
    "  1. Types of data\n",
    "  1. Mathematical operations\n",
    "1. Reading and Writing Data\n",
    "  1. Basic reading\n",
    "  1. `loadtxt`\n",
    "  1. Basic writing\n",
    "  1. Reading Tabular Data\n",
    "  1. `xarray`\n",
    "1. Plotting\n",
    "  1. Plotting in 1D\n",
    "\t1. Basic plotting options\n",
    "\t1. Labeling\n",
    "\t1. Decorating plots\n",
    "\t1. Other types of 1D function plots\n",
    "  1. Plotting in 2D\n",
    "    1. `pcolor` plots\n",
    "    1. colorbars\n",
    "  1. More complex plotting\n",
    "    1. Subplots\n",
    "    1. Automatic outlays\n",
    "  1. Customizing plotting\n",
    "    1. Publication plotting\n",
    "    1. Latex\n",
    "1. Further Study\n",
    "  1. Brief Tour of SciPy\n",
    "    1. Packages\n",
    "    1. SciPy Conferences\n",
    "    1. SciKits\n",
    "  1. Brief Tour of Pandas"
   ]
  }
 ],
 "metadata": {
  "kernelspec": {
   "display_name": "Python 3",
   "language": "python",
   "name": "python3"
  },
  "language_info": {
   "codemirror_mode": {
    "name": "ipython",
    "version": 3
   },
   "file_extension": ".py",
   "mimetype": "text/x-python",
   "name": "python",
   "nbconvert_exporter": "python",
   "pygments_lexer": "ipython3",
   "version": "3.7.7"
  }
 },
 "nbformat": 4,
 "nbformat_minor": 4
}
