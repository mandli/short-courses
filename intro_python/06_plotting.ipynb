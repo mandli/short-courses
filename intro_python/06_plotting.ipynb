{
 "cells": [
  {
   "cell_type": "markdown",
   "metadata": {
    "hide_input": false,
    "slideshow": {
     "slide_type": "skip"
    }
   },
   "source": [
    "<table>\n",
    " <tr align=left><td><img align=left src=\"./images/CC-BY.png\">\n",
    " <td>Text provided under a Creative Commons Attribution license, CC-BY. All code is made available under the FSF-approved MIT license. (c) Kyle T. Mandli and Others</td>\n",
    "</table>"
   ]
  },
  {
   "cell_type": "code",
   "execution_count": null,
   "metadata": {
    "hide_input": false,
    "slideshow": {
     "slide_type": "skip"
    }
   },
   "outputs": [],
   "source": [
    "from __future__ import print_function\n",
    "\n",
    "%matplotlib inline\n",
    "import numpy\n",
    "import matplotlib.pyplot as plt"
   ]
  },
  {
   "cell_type": "markdown",
   "metadata": {},
   "source": [
    "# Plotting with `matplotlib`\n",
    "\n",
    "The most common facility for plotting with the Python numerical suite is to use the `matplotlib` package.  We will cover a few of the basic approaches to plotting figures.  If you are interested in learning more about `matplotlib` or are looking to see how you might create a particular plot check out the matplotlib [gallery](http://matplotlib.org/gallery) for inspiration.\n",
    "\n",
    "Please see the [matplotlib](https://matplotlib.org) site for more details and examples."
   ]
  },
  {
   "cell_type": "markdown",
   "metadata": {},
   "source": [
    "## Plotting - Plotting in 1D\n",
    "\n",
    "1. Basic plotting options\n",
    "1. Labeling\n",
    "1. Decorating plots\n",
    "1. Other types of 1D function plots"
   ]
  },
  {
   "cell_type": "code",
   "execution_count": null,
   "metadata": {},
   "outputs": [],
   "source": [
    "x = numpy.linspace(-5, 5, 100)\n",
    "f = lambda x: x**2 + 2 * x + 3\n",
    "\n",
    "plt.plot(x, f(x), 'r--')\n",
    "\n",
    "plt.show()"
   ]
  },
  {
   "cell_type": "code",
   "execution_count": null,
   "metadata": {},
   "outputs": [],
   "source": [
    "x = numpy.linspace(-5, 5, 100)\n",
    "f = lambda x: x**2 + 2 * x + 3\n",
    "\n",
    "plt.plot(x, f(x), 'r--')\n",
    "plt.xlabel(\"time (s)\")\n",
    "plt.ylabel(\"Tribble Population\")\n",
    "plt.title(\"Tribble Growth\")\n",
    "plt.xlim([0, 4])\n",
    "plt.ylim([0, 25])\n",
    "\n",
    "plt.show()"
   ]
  },
  {
   "cell_type": "code",
   "execution_count": null,
   "metadata": {},
   "outputs": [],
   "source": [
    "x = numpy.linspace(-5, 5, 100)\n",
    "f = lambda x: x**2 + 2 * x + 3\n",
    "\n",
    "fig = plt.figure()\n",
    "axes = fig.add_subplot()\n",
    "\n",
    "axes.plot(x, f(x), 'r--')\n",
    "axes.set_xlabel(\"time (s)\")\n",
    "axes.set_ylabel(\"Tribble Population\")\n",
    "axes.set_title(\"Tribble Growth\")\n",
    "axes.set_xlim([0, 4])\n",
    "axes.set_ylim([0, 25])\n",
    "\n",
    "plt.show()"
   ]
  },
  {
   "cell_type": "code",
   "execution_count": null,
   "metadata": {},
   "outputs": [],
   "source": [
    "x = numpy.linspace(-5, 5, 100)\n",
    "f = lambda x: x**2 + 2 * x + 3\n",
    "g = lambda x: x**3 + 4 * x + 2\n",
    "\n",
    "fig = plt.figure()\n",
    "axes = fig.add_subplot()\n",
    "\n",
    "axes.plot(x, f(x), 'r--', label='red tribbles')\n",
    "axes.plot(x, g(x), 'b-.', label='blue tribbles')\n",
    "axes.set_xlabel(\"time (s)\")\n",
    "axes.set_ylabel(\"Tribble Population\")\n",
    "axes.set_title(\"Tribble Growth\")\n",
    "axes.set_xlim([0, 4])\n",
    "axes.set_ylim([0, 25])\n",
    "axes.legend()\n",
    "\n",
    "plt.show()"
   ]
  },
  {
   "cell_type": "code",
   "execution_count": null,
   "metadata": {},
   "outputs": [],
   "source": [
    "x = numpy.linspace(-5, 5, 100)\n",
    "f = lambda x: x**2 + 2 * x + 3\n",
    "\n",
    "fig = plt.figure()\n",
    "axes = fig.add_subplot()\n",
    "\n",
    "growth_curve = axes.plot(x, f(x), 'r--')\n",
    "axes.set_xlabel(\"time (s)\")\n",
    "axes.set_ylabel(\"Tribble Population\")\n",
    "axes.set_title(\"Tribble Growth\")\n",
    "axes.set_xlim([0, 4])\n",
    "axes.set_ylim([0, 25])\n",
    "\n",
    "growth_curve[0].set_color('b')\n",
    "axes.plot(numpy.pi, f(numpy.pi), 'sr', markersize=20)\n",
    "\n",
    "plt.show()"
   ]
  },
  {
   "cell_type": "markdown",
   "metadata": {},
   "source": [
    "## Plotting - Plotting in 2D\n",
    "\n",
    "1. Types of 2D plots\n",
    "1. colorbars"
   ]
  },
  {
   "cell_type": "code",
   "execution_count": null,
   "metadata": {},
   "outputs": [],
   "source": [
    "x = numpy.linspace(-1, 1, 100)\n",
    "y = numpy.linspace(-1, 1, 100)\n",
    "X, Y = numpy.meshgrid(x, y)\n",
    "F = numpy.sin(X**2) + numpy.cos(Y**2)\n",
    "plt.pcolor(X, Y, F)\n",
    "plt.colorbar(label=\"stuff\")\n",
    "plt.title('Pseudo-Color plot')\n",
    "plt.show()"
   ]
  },
  {
   "cell_type": "code",
   "execution_count": null,
   "metadata": {},
   "outputs": [],
   "source": [
    "plt.contour(X, Y, F)\n",
    "plt.colorbar(label=\"stuff\")\n",
    "plt.title('Contour Plot')\n",
    "plt.show()"
   ]
  },
  {
   "cell_type": "code",
   "execution_count": null,
   "metadata": {
    "jupyter": {
     "source_hidden": true
    }
   },
   "outputs": [],
   "source": [
    "plt.contourf(X, Y, F)\n",
    "plt.colorbar(label=\"stuff\")\n",
    "plt.title('Contour Plot')\n",
    "plt.show()"
   ]
  },
  {
   "cell_type": "code",
   "execution_count": null,
   "metadata": {},
   "outputs": [],
   "source": [
    "x = numpy.linspace(-1, 1, 100)\n",
    "y = numpy.linspace(-1, 1, 100)\n",
    "X, Y = numpy.meshgrid(x, y)\n",
    "\n",
    "fig = plt.figure()\n",
    "fig.set_figwidth(fig.get_figwidth() * 2)\n",
    "\n",
    "axes = fig.add_subplot(1, 2, 1, aspect='equal')\n",
    "tribble_density = axes.pcolor(X, Y, numpy.sin(X**2) + numpy.cos(Y**2), cmap=plt.get_cmap(\"Oranges\"))\n",
    "axes.set_xlabel(\"x (km)\")\n",
    "axes.set_ylabel(\"y (km)\")\n",
    "axes.set_title(\"Tribble Density ($N/km^2$)\")\n",
    "cbar = fig.colorbar(tribble_density, ax=axes)\n",
    "cbar.set_label(\"$1/km^2$\")\n",
    "\n",
    "axes = fig.add_subplot(1, 2, 2, aspect='equal')\n",
    "klingon_population_density = axes.pcolor(X, Y, X * Y + 1, cmap=plt.get_cmap(\"RdBu\"))\n",
    "axes.set_xlabel(\"x (km)\")\n",
    "axes.set_ylabel(\"y (km)\")\n",
    "axes.set_title(\"Tribble Birth Rate Anomaly\")\n",
    "cbar = fig.colorbar(klingon_population_density, ax=axes)\n",
    "cbar.set_label(\"Birth Rate Deviation\")\n",
    "\n",
    "plt.show()"
   ]
  },
  {
   "cell_type": "markdown",
   "metadata": {},
   "source": [
    "# Plotting - Adding Complexity\n",
    "\n",
    "1. Subplots\n",
    "1. Automatic outlays"
   ]
  },
  {
   "cell_type": "code",
   "execution_count": null,
   "metadata": {},
   "outputs": [],
   "source": [
    "x = numpy.linspace(-1, 1, 100)\n",
    "y = numpy.linspace(-1, 1, 100)\n",
    "X, Y = numpy.meshgrid(x, y)\n",
    "\n",
    "fig = plt.figure()\n",
    "fig.set_figwidth(fig.get_figwidth() * 2)\n",
    "\n",
    "axes = fig.add_subplot(1, 2, 1, aspect='equal')\n",
    "tribble_density = axes.pcolor(X, Y, numpy.sin(X**2) + numpy.cos(Y**2), cmap=plt.get_cmap(\"Oranges\"))\n",
    "axes.set_xlabel(\"x (km)\")\n",
    "axes.set_ylabel(\"y (km)\")\n",
    "axes.set_title(\"Tribble Density ($N/km^2$)\")\n",
    "cbar = fig.colorbar(tribble_density, ax=axes)\n",
    "cbar.set_label(\"$1/km^2$\")\n",
    "\n",
    "axes = fig.add_subplot(1, 2, 2, aspect='equal')\n",
    "klingon_population_density = axes.pcolor(X, Y, X * Y + 1, cmap=plt.get_cmap(\"RdBu\"))\n",
    "axes.set_xlabel(\"x (km)\")\n",
    "axes.set_ylabel(\"y (km)\")\n",
    "axes.set_title(\"Tribble Birth Rate Anomaly\")\n",
    "cbar = fig.colorbar(klingon_population_density, ax=axes)\n",
    "cbar.set_label(\"Birth Rate Deviation\")\n",
    "\n",
    "plt.show()\n",
    "    "
   ]
  },
  {
   "cell_type": "markdown",
   "metadata": {},
   "source": [
    "# Plotting - Customization\n",
    "\n",
    "1. Publication plotting\n",
    "1. Latex"
   ]
  },
  {
   "cell_type": "code",
   "execution_count": null,
   "metadata": {},
   "outputs": [],
   "source": []
  },
  {
   "cell_type": "code",
   "execution_count": null,
   "metadata": {},
   "outputs": [],
   "source": []
  }
 ],
 "metadata": {
  "kernelspec": {
   "display_name": "Python 3",
   "language": "python",
   "name": "python3"
  },
  "language_info": {
   "codemirror_mode": {
    "name": "ipython",
    "version": 3
   },
   "file_extension": ".py",
   "mimetype": "text/x-python",
   "name": "python",
   "nbconvert_exporter": "python",
   "pygments_lexer": "ipython3",
   "version": "3.7.7"
  }
 },
 "nbformat": 4,
 "nbformat_minor": 4
}
